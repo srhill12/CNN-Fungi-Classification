{
  "cells": [
    {
      "cell_type": "code",
      "execution_count": 1,
      "metadata": {
        "colab": {
          "base_uri": "https://localhost:8080/"
        },
        "id": "UBJflajTYUJv",
        "outputId": "f8bf24eb-96ae-4252-9679-66385d29b3c5"
      },
      "outputs": [
        {
          "name": "stdout",
          "output_type": "stream",
          "text": [
            "[[[0.5568628  0.5647059  0.56078434]\n",
            "  [0.5568628  0.5647059  0.56078434]\n",
            "  [0.5568628  0.5647059  0.56078434]\n",
            "  ...\n",
            "  [0.53333336 0.54901963 0.54509807]\n",
            "  [0.5372549  0.5529412  0.54901963]\n",
            "  [0.5372549  0.5529412  0.54901963]]\n",
            "\n",
            " [[0.54901963 0.5568628  0.5529412 ]\n",
            "  [0.54901963 0.5568628  0.5529412 ]\n",
            "  [0.5529412  0.56078434 0.5568628 ]\n",
            "  ...\n",
            "  [0.53333336 0.54901963 0.54509807]\n",
            "  [0.5372549  0.5529412  0.54901963]\n",
            "  [0.5372549  0.5529412  0.54901963]]\n",
            "\n",
            " [[0.53333336 0.5411765  0.5372549 ]\n",
            "  [0.5411765  0.54901963 0.54509807]\n",
            "  [0.54901963 0.5568628  0.5529412 ]\n",
            "  ...\n",
            "  [0.5254902  0.5411765  0.5372549 ]\n",
            "  [0.5294118  0.54509807 0.5411765 ]\n",
            "  [0.5294118  0.54509807 0.5411765 ]]\n",
            "\n",
            " ...\n",
            "\n",
            " [[0.5529412  0.53333336 0.4509804 ]\n",
            "  [0.5529412  0.53333336 0.4509804 ]\n",
            "  [0.54901963 0.5254902  0.44705883]\n",
            "  ...\n",
            "  [0.54509807 0.5529412  0.5568628 ]\n",
            "  [0.54509807 0.5529412  0.56078434]\n",
            "  [0.54509807 0.5529412  0.56078434]]\n",
            "\n",
            " [[0.54901963 0.5254902  0.44705883]\n",
            "  [0.54901963 0.5254902  0.44705883]\n",
            "  [0.5411765  0.5176471  0.44313726]\n",
            "  ...\n",
            "  [0.5411765  0.5568628  0.56078434]\n",
            "  [0.5411765  0.5568628  0.56078434]\n",
            "  [0.5411765  0.5568628  0.56078434]]\n",
            "\n",
            " [[0.54901963 0.52156866 0.44705883]\n",
            "  [0.54901963 0.52156866 0.44705883]\n",
            "  [0.5411765  0.5176471  0.44313726]\n",
            "  ...\n",
            "  [0.5411765  0.5568628  0.56078434]\n",
            "  [0.5411765  0.5568628  0.56078434]\n",
            "  [0.5411765  0.5568628  0.56078434]]]\n",
            "0    H1\n",
            "1    H1\n",
            "2    H2\n",
            "3    H1\n",
            "4    H2\n",
            "dtype: object\n"
          ]
        }
      ],
      "source": [
        "import tensorflow as tf\n",
        "from tensorflow import keras\n",
        "from tensorflow.keras import layers\n",
        "from sklearn.model_selection import train_test_split\n",
        "from sklearn.preprocessing import LabelEncoder\n",
        "import numpy as np\n",
        "import requests\n",
        "import pickle\n",
        "import io\n",
        "\n",
        "# Import the preprocessed data\n",
        "X_preprocessed_url = \"https://static.bc-edx.com/ai/ail-v-1-0/m19/lesson_2/datasets/pickles/preprocessed_fungi.pkl\"\n",
        "y_url = \"https://static.bc-edx.com/ai/ail-v-1-0/m19/lesson_2/datasets/pickles/fungi_y.pkl\"\n",
        "\n",
        "X = pickle.load(io.BytesIO(requests.get(X_preprocessed_url).content))\n",
        "y = pickle.load(io.BytesIO(requests.get(y_url).content))\n",
        "\n",
        "print(X[0])\n",
        "print(y.head())\n"
      ]
    },
    {
      "cell_type": "code",
      "execution_count": 2,
      "metadata": {
        "colab": {
          "base_uri": "https://localhost:8080/"
        },
        "id": "oEfSaYnPYVZc",
        "outputId": "04f3a5eb-f649-4288-a028-e90c18203c21"
      },
      "outputs": [
        {
          "name": "stdout",
          "output_type": "stream",
          "text": [
            "Epoch 1/10\n"
          ]
        },
        {
          "name": "stderr",
          "output_type": "stream",
          "text": [
            "/Users/stevenhill/anaconda3/envs/dev/lib/python3.10/site-packages/keras/src/layers/convolutional/base_conv.py:107: UserWarning: Do not pass an `input_shape`/`input_dim` argument to a layer. When using Sequential models, prefer using an `Input(shape)` object as the first layer in the model instead.\n",
            "  super().__init__(activity_regularizer=activity_regularizer, **kwargs)\n"
          ]
        },
        {
          "name": "stdout",
          "output_type": "stream",
          "text": [
            "\u001b[1m7/7\u001b[0m \u001b[32m━━━━━━━━━━━━━━━━━━━━\u001b[0m\u001b[37m\u001b[0m \u001b[1m2s\u001b[0m 166ms/step - accuracy: 0.4476 - loss: 10.7647 - val_accuracy: 0.7000 - val_loss: 2.9044\n",
            "Epoch 2/10\n",
            "\u001b[1m7/7\u001b[0m \u001b[32m━━━━━━━━━━━━━━━━━━━━\u001b[0m\u001b[37m\u001b[0m \u001b[1m1s\u001b[0m 153ms/step - accuracy: 0.5155 - loss: 1.9527 - val_accuracy: 0.7000 - val_loss: 0.8647\n",
            "Epoch 3/10\n",
            "\u001b[1m7/7\u001b[0m \u001b[32m━━━━━━━━━━━━━━━━━━━━\u001b[0m\u001b[37m\u001b[0m \u001b[1m1s\u001b[0m 150ms/step - accuracy: 0.5666 - loss: 0.9126 - val_accuracy: 0.7200 - val_loss: 0.6016\n",
            "Epoch 4/10\n",
            "\u001b[1m7/7\u001b[0m \u001b[32m━━━━━━━━━━━━━━━━━━━━\u001b[0m\u001b[37m\u001b[0m \u001b[1m1s\u001b[0m 148ms/step - accuracy: 0.6301 - loss: 0.7295 - val_accuracy: 0.7600 - val_loss: 0.6121\n",
            "Epoch 5/10\n",
            "\u001b[1m7/7\u001b[0m \u001b[32m━━━━━━━━━━━━━━━━━━━━\u001b[0m\u001b[37m\u001b[0m \u001b[1m1s\u001b[0m 148ms/step - accuracy: 0.6584 - loss: 0.6473 - val_accuracy: 0.7200 - val_loss: 0.5662\n",
            "Epoch 6/10\n",
            "\u001b[1m7/7\u001b[0m \u001b[32m━━━━━━━━━━━━━━━━━━━━\u001b[0m\u001b[37m\u001b[0m \u001b[1m1s\u001b[0m 147ms/step - accuracy: 0.6878 - loss: 0.6322 - val_accuracy: 0.7200 - val_loss: 0.5826\n",
            "Epoch 7/10\n",
            "\u001b[1m7/7\u001b[0m \u001b[32m━━━━━━━━━━━━━━━━━━━━\u001b[0m\u001b[37m\u001b[0m \u001b[1m1s\u001b[0m 151ms/step - accuracy: 0.6512 - loss: 0.6255 - val_accuracy: 0.7200 - val_loss: 0.5638\n",
            "Epoch 8/10\n",
            "\u001b[1m7/7\u001b[0m \u001b[32m━━━━━━━━━━━━━━━━━━━━\u001b[0m\u001b[37m\u001b[0m \u001b[1m1s\u001b[0m 149ms/step - accuracy: 0.6527 - loss: 0.6194 - val_accuracy: 0.7400 - val_loss: 0.5572\n",
            "Epoch 9/10\n",
            "\u001b[1m7/7\u001b[0m \u001b[32m━━━━━━━━━━━━━━━━━━━━\u001b[0m\u001b[37m\u001b[0m \u001b[1m1s\u001b[0m 146ms/step - accuracy: 0.6640 - loss: 0.6255 - val_accuracy: 0.7200 - val_loss: 0.5596\n",
            "Epoch 10/10\n",
            "\u001b[1m7/7\u001b[0m \u001b[32m━━━━━━━━━━━━━━━━━━━━\u001b[0m\u001b[37m\u001b[0m \u001b[1m1s\u001b[0m 144ms/step - accuracy: 0.6186 - loss: 0.6407 - val_accuracy: 0.7200 - val_loss: 0.5616\n"
          ]
        }
      ],
      "source": [
        "# Label encode the y data\n",
        "y_encoder = LabelEncoder().fit(y)\n",
        "y = y_encoder.transform(y)\n",
        "\n",
        "# Convert values to numpy arrays\n",
        "X = np.array(X)\n",
        "\n",
        "# Split the training dataset into training and validation sets\n",
        "X_train, X_test, y_train, y_test = train_test_split(X, y, test_size=0.2, random_state=42)\n",
        "\n",
        "# Define a CNN model; I need to make sure to use the correct values for input shape\n",
        "model = keras.Sequential([\n",
        "    layers.Conv2D(32, (3, 3), activation='relu', input_shape=(250, 250, 3)),\n",
        "    layers.MaxPooling2D((2, 2)),\n",
        "    layers.Flatten(),\n",
        "    layers.Dense(64, activation='relu'),\n",
        "    layers.Dense(2, activation='sigmoid')\n",
        "])\n",
        "\n",
        "# Compile the model\n",
        "model.compile(optimizer='adam', loss='sparse_categorical_crossentropy', metrics=['accuracy'])\n",
        "\n",
        "# Train the model\n",
        "batch_size = 32\n",
        "epochs = 10\n",
        "history = model.fit(\n",
        "    X_train, y_train,\n",
        "    validation_data=(X_test, y_test),\n",
        "    epochs=epochs\n",
        ")"
      ]
    },
    {
      "cell_type": "code",
      "execution_count": null,
      "metadata": {
        "id": "gLaNbVe2Z_gN"
      },
      "outputs": [],
      "source": []
    }
  ],
  "metadata": {
    "colab": {
      "provenance": []
    },
    "kernelspec": {
      "display_name": "Python 3",
      "name": "python3"
    },
    "language_info": {
      "codemirror_mode": {
        "name": "ipython",
        "version": 3
      },
      "file_extension": ".py",
      "mimetype": "text/x-python",
      "name": "python",
      "nbconvert_exporter": "python",
      "pygments_lexer": "ipython3",
      "version": "3.10.13"
    }
  },
  "nbformat": 4,
  "nbformat_minor": 0
}
